{
 "cells": [
  {
   "cell_type": "code",
   "execution_count": null,
   "metadata": {},
   "outputs": [],
   "source": [
    "import pandas as pd"
   ]
  },
  {
   "cell_type": "code",
   "execution_count": null,
   "metadata": {},
   "outputs": [],
   "source": [
    "#明智は人名、大湫はツイートなし、日吉は京都にも同じ地名あり、山岡は人名ラーメン屋、釜戸はご飯、明世はツイートなし、土岐は人名、陶は人名器\n",
    "keyword_list = [#'sumou',\n",
    "                'ena', 'nakatsugawa', 'mizunami', 'tajimi',\n",
    "                #'iwamura', 'kushihara', 'ueyahagi', 'daishu', 'inetsu', # 分析可能\n",
    "                #'meiyo', 'hiyoshi', 'kamako', 'tou', 'yamaoka', 'toki', 'akechi', #分析困難\n",
    "                #'\"obaachanshi\"', '\"saiensuwa-rudo\"', '\"kinaata\" OR \"kinaata\"',\n",
    "]\n",
    "keyword = keyword_list[2]\n",
    "period1 = '2018-07-18'\n",
    "file1 = \"tweets_in_a_week/keyword/\"+keyword+period1+\".csv\" #edit!!!!!!!!!\n",
    "period2 = '2018-07-25'\n",
    "file2 = \"tweets_in_a_week/keyword/\"+keyword+period2+\".csv\" #edit!!!!!!!!!"
   ]
  },
  {
   "cell_type": "code",
   "execution_count": null,
   "metadata": {},
   "outputs": [],
   "source": [
    "data1 = pd.read_csv(open(file1, 'rU'), encoding='utf-8')\n",
    "data2 = pd.read_csv(open(file2, 'rU'), encoding='utf-8')"
   ]
  },
  {
   "cell_type": "code",
   "execution_count": null,
   "metadata": {},
   "outputs": [],
   "source": [
    "datas = pd.concat([data1, data2], axis=0)\n",
    "datas = datas.drop('Unnamed: 0', axis=1)\n",
    "datas = datas.reset_index(drop=True)"
   ]
  },
  {
   "cell_type": "markdown",
   "metadata": {},
   "source": [
    "# botとか不適切やツイートを除く"
   ]
  },
  {
   "cell_type": "code",
   "execution_count": null,
   "metadata": {},
   "outputs": [],
   "source": [
    "datas"
   ]
  },
  {
   "cell_type": "code",
   "execution_count": null,
   "metadata": {},
   "outputs": [],
   "source": [
    "improper_col = []\n",
    "for col in range(datas.shape[0]):\n",
    "    if type(datas.text[col]) != str:\n",
    "        print('-'*40)\n",
    "        print(col)\n",
    "        print(type(datas.name[col]), type(datas.profile[col]), type(datas.text[col]),)\n",
    "        print(datas.iloc[col])\n",
    "        improper_col.append(col)\n",
    "datas = datas.drop(improper_col, axis=0)\n",
    "datas = datas.reset_index(drop=True)"
   ]
  },
  {
   "cell_type": "code",
   "execution_count": null,
   "metadata": {},
   "outputs": [],
   "source": [
    "datas['n_following'] = datas['n_following'].astype('int')\n",
    "datas['n_followed'] = datas['n_followed'].astype('int')\n",
    "datas['n_tweets'] = datas['n_tweets'].astype('int')\n",
    "datas['n_favorited'] = datas['n_favorited'].astype('int')"
   ]
  },
  {
   "cell_type": "code",
   "execution_count": null,
   "metadata": {},
   "outputs": [],
   "source": [
    "improper_names  = ['bot', 'Bot', 'BOT', 'ぼっと', '情報', '案内', '相互', '出会', 'セフレ', 'エッチ', '法人',\n",
    "                   'News', 'NEWS', 'news', 'ニュース', '新聞', '報道', 'NHK',\n",
    "#                   '宮部雪宗', '多治見ネオ', 'キュアフランベ', 'SEATURTLES', '見習い魔法使い', '恵那豆', 'ゼイラム',\n",
    "#                   'フィギュア', '空き家オールバンク', 'つけめん 恵那く', 'すぎたけ', '東城咲耶子', #for ena\n",
    "#                   '石田麦', '創作さん', '恵那(癒し力高め中)', 'どう美じゅ合同誌', 'よつばと', #for ena\n",
    "#                   '多治見でボイトレ', 'Macelle Yamamoto', '中野恵那', '王禅寺',\n",
    "                   #'相撲 バズウォール', '逢華', '大西啓太', #for sumou\n",
    "                  ] \n",
    "improper_profiles  = ['improper_words', 'bot', 'Bot', 'BOT', 'ぼっと',\n",
    "#                      'えなfam', 'ｶﾞﾁだん', 'ガチだん', 'Καρδιά μου', '月がきれい', '成人済み腐女子', 'おりえなコンビ', #for ena\n",
    "#                      'リトルアーモリー', 'アクティブなインドア派声優', 'ロマニとドレイク', '弱ペダ・東巻', #for ena\n",
    "#                      'アイコンが中津川', 'チーム多治見',\n",
    "                     ]\n",
    "improper_texts  = ['improper_words', \"I'm at\", '相互', 'imacoconow',\n",
    "#                   \"稲津けんご\", #for inatsu\n",
    "#                   '斉藤恵那', '恵那さん', '恵那ちゃん', 'リトルアーモリー', 'よつばと', '小宮恵那', #for ena\n",
    "#                   '中津川ひろさと', '塩尻', '松本', '恵那署', '斎藤恵那', 'ゆるキャン', '中野恵那',\n",
    "                   #'火ノ丸', '大喜利', '手押し相撲' , '一人相撲' , '独り相撲', 'ローション', '名言集', '紙相撲', #for sumou\n",
    "                   #'火の丸', 'カーネーション', '他人の褌で相撲を取る', '菊とギロチン', '伝令', '尻相撲', #for sumou\n",
    "                   #'格闘技、プロ野球、相撲好き', '女相撲一座とアナキスト', '氷結相撲', #for sumou\n",
    "                  ]\n",
    "\n",
    "for col in range(datas.shape[0]):\n",
    "    if type(datas['name'][col]) == str:\n",
    "        for word in improper_names:\n",
    "            if word in datas['name'][col]:\n",
    "                datas['profile'][col] = 'improper_words'\n",
    "                break\n",
    "    if type(datas['profile'][col]) == str:\n",
    "        for word in improper_profiles:\n",
    "            if word in datas['profile'][col]:\n",
    "                datas['text'][col] = 'improper_words'\n",
    "                break\n",
    "    for word in improper_texts:\n",
    "        if word in datas['text'][col]:\n",
    "            datas = datas.drop(col, axis=0)\n",
    "            break\n",
    "\n",
    "datas = datas.reset_index(drop=True)"
   ]
  },
  {
   "cell_type": "markdown",
   "metadata": {},
   "source": [
    "# EDA"
   ]
  },
  {
   "cell_type": "code",
   "execution_count": null,
   "metadata": {},
   "outputs": [],
   "source": [
    "n_keyword_tweets = datas['id'].value_counts()\n",
    "n_keyword_tweets_arr = []\n",
    "\n",
    "for col in range(datas.shape[0]):\n",
    "    n_keyword_tweets_arr.append(n_keyword_tweets[datas['id'][col]])\n",
    "datas['n_keyword_tweets'] = n_keyword_tweets_arr\n",
    "\n",
    "del n_keyword_tweets, n_keyword_tweets_arr"
   ]
  },
  {
   "cell_type": "code",
   "execution_count": null,
   "metadata": {},
   "outputs": [],
   "source": [
    "datas_unique = datas.drop_duplicates(subset='id')\n",
    "datas_unique = datas_unique.reset_index(drop=True)"
   ]
  },
  {
   "cell_type": "markdown",
   "metadata": {},
   "source": [
    "# キーワードを多くツイートした人"
   ]
  },
  {
   "cell_type": "code",
   "execution_count": null,
   "metadata": {},
   "outputs": [],
   "source": [
    "datas_unique.sort_values(by='n_followed', ascending=False)"
   ]
  },
  {
   "cell_type": "code",
   "execution_count": null,
   "metadata": {},
   "outputs": [],
   "source": [
    "influencer = datas_unique.sort_values(by='n_followed', ascending=False)[:100]\n",
    "influencer.to_csv(\"tweets_in_a_week/keyword/\"+keyword+period1+'_'+period2+\"follower.csv\", index=False)"
   ]
  },
  {
   "cell_type": "code",
   "execution_count": null,
   "metadata": {},
   "outputs": [],
   "source": [
    "datas_unique.sort_values(by='n_favorited', ascending=False)"
   ]
  },
  {
   "cell_type": "code",
   "execution_count": null,
   "metadata": {},
   "outputs": [],
   "source": [
    "influencer = datas_unique.sort_values(by='n_favorited', ascending=False)[:100]\n",
    "influencer.to_csv(\"tweets_in_a_week/keyword/\"+keyword+period1+'_'+period2+\"favorited.csv\", index=False)"
   ]
  },
  {
   "cell_type": "code",
   "execution_count": null,
   "metadata": {},
   "outputs": [],
   "source": []
  }
 ],
 "metadata": {
  "kernelspec": {
   "display_name": "Python 3",
   "language": "python",
   "name": "python3"
  },
  "language_info": {
   "codemirror_mode": {
    "name": "ipython",
    "version": 3
   },
   "file_extension": ".py",
   "mimetype": "text/x-python",
   "name": "python",
   "nbconvert_exporter": "python",
   "pygments_lexer": "ipython3",
   "version": "3.6.4"
  }
 },
 "nbformat": 4,
 "nbformat_minor": 2
}
