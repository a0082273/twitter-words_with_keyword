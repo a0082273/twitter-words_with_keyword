{
 "cells": [
  {
   "cell_type": "code",
   "execution_count": null,
   "metadata": {},
   "outputs": [],
   "source": [
    "import pandas as pd\n",
    "import seaborn as sns\n",
    "import matplotlib.pyplot as plt"
   ]
  },
  {
   "cell_type": "code",
   "execution_count": null,
   "metadata": {},
   "outputs": [],
   "source": [
    "pd.set_option(\"display.max_rows\", 300)"
   ]
  },
  {
   "cell_type": "code",
   "execution_count": null,
   "metadata": {},
   "outputs": [],
   "source": [
    "keyword_list = ['yamaoka', 'iwamura', 'okute',\n",
    "                'nakatsugawa', 'ena', 'mizunami', 'tokishi', 'tajimi', 'kozoji', 'kasugai', 'kachigawa',\n",
    "                'ozone', 'chikusa', 'tsurumai', 'kanayama','nagoya',\n",
    "                'aichiken_taikukan']\n",
    "keyword = keyword_list[-1] #edit!!!\n",
    "period = '2018-07-13' #edit!!!\n",
    "#infile = \"tweets_in_a_week/geocode/\"+keyword+period+\".csv\" #edit!!!\n",
    "#outfile = \"tweets_in_a_week/geocode/\"+keyword+period+\".png\"\n",
    "infile = \"tweets_in_a_day/geocode/\"+keyword+period+\".csv\"\n",
    "outfile = \"tweets_in_a_day/geocode/\"+keyword+period+\".png\""
   ]
  },
  {
   "cell_type": "code",
   "execution_count": null,
   "metadata": {},
   "outputs": [],
   "source": [
    "datas = pd.read_csv(open(infile, 'rU'), encoding='utf-8')"
   ]
  },
  {
   "cell_type": "code",
   "execution_count": null,
   "metadata": {},
   "outputs": [],
   "source": [
    "datas"
   ]
  },
  {
   "cell_type": "markdown",
   "metadata": {},
   "source": [
    "# botとか不適切やツイートを除く"
   ]
  },
  {
   "cell_type": "code",
   "execution_count": null,
   "metadata": {},
   "outputs": [],
   "source": [
    "datas = datas.drop('Unnamed: 0', axis=1)"
   ]
  },
  {
   "cell_type": "code",
   "execution_count": null,
   "metadata": {},
   "outputs": [],
   "source": [
    "improper_col = []\n",
    "for col in range(datas.shape[0]):\n",
    "    if type(datas.text[col]) != str:\n",
    "        print('-'*40)\n",
    "        print(col)\n",
    "        print(type(datas.name[col]), type(datas.profile[col]), type(datas.text[col]),)\n",
    "        print(datas.iloc[col])\n",
    "        improper_col.append(col)\n",
    "datas = datas.drop(improper_col, axis=0)\n",
    "datas = datas.reset_index(drop=True)"
   ]
  },
  {
   "cell_type": "code",
   "execution_count": null,
   "metadata": {},
   "outputs": [],
   "source": [
    "datas['n_following'] = datas['n_following'].astype('int')\n",
    "datas['n_followed'] = datas['n_followed'].astype('int')\n",
    "datas['n_tweets'] = datas['n_tweets'].astype('int')\n",
    "datas['n_favorited'] = datas['n_favorited'].astype('int')"
   ]
  },
  {
   "cell_type": "code",
   "execution_count": null,
   "metadata": {},
   "outputs": [],
   "source": [
    "improper_names  = ['bot', 'Bot', 'BOT', 'ぼっと', '情報', '案内', '相互', '出会', 'セフレ', 'エッチ', '法人',\n",
    "#                   '高橋文代', 'jiminfpt', #for enaeki\n",
    "                  ]\n",
    "improper_profiles  = ['improper_words', 'bot', 'Bot', 'BOT', 'ぼっと']\n",
    "improper_texts  = ['improper_words', \"I'm at\", '相互']\n",
    "\n",
    "for col in range(datas.shape[0]):\n",
    "    for word in improper_names:\n",
    "        if word in datas['name'][col]:\n",
    "            datas['profile'][col] = 'improper_words'\n",
    "            break\n",
    "    if type(datas['profile'][col]) == str:\n",
    "        for word in improper_profiles:\n",
    "            if word in datas['profile'][col]:\n",
    "                datas['text'][col] = 'improper_words'\n",
    "                break\n",
    "    for word in improper_texts:\n",
    "        if word in datas['text'][col]:\n",
    "            datas = datas.drop(col, axis=0)\n",
    "            break\n",
    "\n",
    "datas = datas.reset_index(drop=True)"
   ]
  },
  {
   "cell_type": "code",
   "execution_count": null,
   "metadata": {},
   "outputs": [],
   "source": [
    "datas"
   ]
  },
  {
   "cell_type": "markdown",
   "metadata": {},
   "source": [
    "# EDA"
   ]
  },
  {
   "cell_type": "code",
   "execution_count": null,
   "metadata": {},
   "outputs": [],
   "source": [
    "n_keyword_tweets = datas['id'].value_counts()\n",
    "n_keyword_tweets_arr = []\n",
    "\n",
    "for col in range(datas.shape[0]):\n",
    "    n_keyword_tweets_arr.append(n_keyword_tweets[datas['id'][col]])\n",
    "datas['n_keyword_tweets'] = n_keyword_tweets_arr\n",
    "\n",
    "del n_keyword_tweets, n_keyword_tweets_arr"
   ]
  },
  {
   "cell_type": "code",
   "execution_count": null,
   "metadata": {},
   "outputs": [],
   "source": [
    "datas_unique = datas.drop_duplicates(subset='id')\n",
    "datas_unique = datas_unique.reset_index(drop=True)\n",
    "datas_unique"
   ]
  },
  {
   "cell_type": "code",
   "execution_count": null,
   "metadata": {},
   "outputs": [],
   "source": [
    "datas_unique.describe()"
   ]
  },
  {
   "cell_type": "markdown",
   "metadata": {},
   "source": [
    "# キーワードを多くツイートした人"
   ]
  },
  {
   "cell_type": "code",
   "execution_count": null,
   "metadata": {},
   "outputs": [],
   "source": [
    "sns.distplot(datas['n_keyword_tweets'])"
   ]
  },
  {
   "cell_type": "code",
   "execution_count": null,
   "metadata": {},
   "outputs": [],
   "source": [
    "datas_unique.sort_values('n_keyword_tweets', ascending=False)"
   ]
  },
  {
   "cell_type": "code",
   "execution_count": null,
   "metadata": {},
   "outputs": [],
   "source": [
    "datas_unique['adress'].value_counts()"
   ]
  },
  {
   "cell_type": "code",
   "execution_count": null,
   "metadata": {},
   "outputs": [],
   "source": [
    "#for enaeki\n",
    "#datas_unique[datas_unique['adress'] == 'oi']\n",
    "#datas_unique[datas_unique['adress'] == 'Oi']"
   ]
  },
  {
   "cell_type": "code",
   "execution_count": null,
   "metadata": {},
   "outputs": [],
   "source": [
    "#for enaeki\n",
    "#datas = datas[datas['adress'] != 'oi']\n",
    "#datas = datas[datas['adress'] != 'Oi']\n",
    "#datas = datas[datas['adress'] != 'OI']\n",
    "#datas = datas[datas['adress'] != 'oI']\n",
    "#datas = datas[datas['adress'] != 'Oi ']\n",
    "#datas = datas[datas['adress'] != 'ø']\n",
    "#datas = datas.reset_index(drop=True)\n",
    "\n",
    "#datas_unique = datas_unique[datas_unique['adress'] != 'oi']\n",
    "#datas_unique = datas_unique[datas_unique['adress'] != 'Oi']\n",
    "#datas_unique = datas_unique[datas_unique['adress'] != 'OI']\n",
    "#datas_unique = datas_unique[datas_unique['adress'] != 'oI']\n",
    "#datas_unique = datas_unique[datas_unique['adress'] != 'Oi ']\n",
    "#datas_unique = datas_unique[datas_unique['adress'] != 'ø']\n",
    "#datas_unique = datas_unique.reset_index(drop=True)"
   ]
  },
  {
   "cell_type": "code",
   "execution_count": null,
   "metadata": {},
   "outputs": [],
   "source": [
    "#for enaeki\n",
    "#datas_unique['adress'].value_counts()"
   ]
  },
  {
   "cell_type": "code",
   "execution_count": null,
   "metadata": {},
   "outputs": [],
   "source": [
    "datas.sort_values('n_keyword_tweets', ascending=False)"
   ]
  },
  {
   "cell_type": "code",
   "execution_count": null,
   "metadata": {},
   "outputs": [],
   "source": [
    "sns.distplot(np.log1p(datas_unique['n_following']))"
   ]
  },
  {
   "cell_type": "code",
   "execution_count": null,
   "metadata": {},
   "outputs": [],
   "source": [
    "datas_unique.sort_values(by='n_following', ascending=False)"
   ]
  },
  {
   "cell_type": "code",
   "execution_count": null,
   "metadata": {},
   "outputs": [],
   "source": [
    "sns.distplot(np.log1p(datas_unique['n_followed']))"
   ]
  },
  {
   "cell_type": "code",
   "execution_count": null,
   "metadata": {},
   "outputs": [],
   "source": [
    "datas_unique.sort_values(by='n_followed', ascending=False)"
   ]
  },
  {
   "cell_type": "code",
   "execution_count": null,
   "metadata": {},
   "outputs": [],
   "source": [
    "sns.distplot(np.log1p(datas_unique['n_tweets']))"
   ]
  },
  {
   "cell_type": "code",
   "execution_count": null,
   "metadata": {},
   "outputs": [],
   "source": [
    "datas_unique.sort_values(by='n_tweets', ascending=False)"
   ]
  },
  {
   "cell_type": "code",
   "execution_count": null,
   "metadata": {},
   "outputs": [],
   "source": [
    "sns.distplot(np.log1p(datas_unique['n_favorited']))"
   ]
  },
  {
   "cell_type": "code",
   "execution_count": null,
   "metadata": {},
   "outputs": [],
   "source": [
    "sns.countplot(datas_unique['n_favorited'])"
   ]
  },
  {
   "cell_type": "code",
   "execution_count": null,
   "metadata": {},
   "outputs": [],
   "source": [
    "datas_unique.sort_values(by='n_favorited', ascending=False)"
   ]
  },
  {
   "cell_type": "code",
   "execution_count": null,
   "metadata": {},
   "outputs": [],
   "source": [
    "datas"
   ]
  },
  {
   "cell_type": "code",
   "execution_count": null,
   "metadata": {},
   "outputs": [],
   "source": [
    "improper_col = []\n",
    "for col in range(datas.shape[0]):\n",
    "    if type(datas.text[col]) != str:\n",
    "        print('-'*40)\n",
    "        print(col)\n",
    "        print(type(datas.name[col]), type(datas.profile[col]), type(datas.text[col]),)\n",
    "        print(datas.iloc[col])\n",
    "        improper_col.append(col)\n",
    "datas = datas.drop(improper_col, axis=0)\n",
    "datas = datas.reset_index(drop=True)"
   ]
  },
  {
   "cell_type": "code",
   "execution_count": null,
   "metadata": {},
   "outputs": [],
   "source": [
    "improper_names  = ['bot', 'Bot', 'BOT', 'ぼっと', '情報', '案内', '相互', '出会', 'セフレ', 'エッチ', '法人',\n",
    "#                   '高橋文代', 'jiminfpt', #for enaeki\n",
    "                  ]\n",
    "improper_profiles  = ['improper_words', 'bot', 'Bot', 'BOT', 'ぼっと']\n",
    "improper_texts  = ['improper_words', \"I'm at\", '相互']\n",
    "\n",
    "for col in range(datas.shape[0]):\n",
    "    for word in improper_names:\n",
    "        if word in datas['name'][col]:\n",
    "            datas['profile'][col] = 'improper_words'\n",
    "            break\n",
    "    if type(datas['profile'][col]) == str:\n",
    "        for word in improper_profiles:\n",
    "            if word in datas['profile'][col]:\n",
    "                datas['text'][col] = 'improper_words'\n",
    "                break\n",
    "    for word in improper_texts:\n",
    "        if word in datas['text'][col]:\n",
    "            datas = datas.drop(col, axis=0)\n",
    "            break\n",
    "\n",
    "datas = datas.reset_index(drop=True)"
   ]
  },
  {
   "cell_type": "code",
   "execution_count": null,
   "metadata": {},
   "outputs": [],
   "source": [
    "datas"
   ]
  },
  {
   "cell_type": "markdown",
   "metadata": {},
   "source": [
    "# EDA"
   ]
  },
  {
   "cell_type": "code",
   "execution_count": null,
   "metadata": {},
   "outputs": [],
   "source": [
    "n_keyword_tweets = datas['id'].value_counts()\n",
    "n_keyword_tweets_arr = []\n",
    "\n",
    "for col in range(datas.shape[0]):\n",
    "    n_keyword_tweets_arr.append(n_keyword_tweets[datas['id'][col]])\n",
    "datas['n_keyword_tweets'] = n_keyword_tweets_arr\n",
    "\n",
    "del n_keyword_tweets, n_keyword_tweets_arr"
   ]
  },
  {
   "cell_type": "code",
   "execution_count": null,
   "metadata": {},
   "outputs": [],
   "source": [
    "datas_unique = datas.drop_duplicates(subset='id')\n",
    "datas_unique = datas_unique.reset_index(drop=True)\n",
    "datas_unique"
   ]
  },
  {
   "cell_type": "code",
   "execution_count": null,
   "metadata": {},
   "outputs": [],
   "source": [
    "datas_unique.describe()"
   ]
  },
  {
   "cell_type": "markdown",
   "metadata": {},
   "source": [
    "# キーワードを多くツイートした人"
   ]
  },
  {
   "cell_type": "code",
   "execution_count": null,
   "metadata": {},
   "outputs": [],
   "source": [
    "sns.distplot(datas['n_keyword_tweets'])"
   ]
  },
  {
   "cell_type": "code",
   "execution_count": null,
   "metadata": {},
   "outputs": [],
   "source": [
    "datas_unique.sort_values('n_keyword_tweets', ascending=False)"
   ]
  },
  {
   "cell_type": "code",
   "execution_count": null,
   "metadata": {},
   "outputs": [],
   "source": [
    "datas_unique['adress'].value_counts()"
   ]
  },
  {
   "cell_type": "code",
   "execution_count": null,
   "metadata": {},
   "outputs": [],
   "source": [
    "#for enaeki\n",
    "#datas_unique[datas_unique['adress'] == 'oi']\n",
    "#datas_unique[datas_unique['adress'] == 'Oi']"
   ]
  },
  {
   "cell_type": "code",
   "execution_count": null,
   "metadata": {},
   "outputs": [],
   "source": [
    "#for enaeki\n",
    "#datas = datas[datas['adress'] != 'oi']\n",
    "#datas = datas[datas['adress'] != 'Oi']\n",
    "#datas = datas[datas['adress'] != 'OI']\n",
    "#datas = datas[datas['adress'] != 'oI']\n",
    "#datas = datas[datas['adress'] != 'Oi ']\n",
    "#datas = datas[datas['adress'] != 'ø']\n",
    "#datas = datas.reset_index(drop=True)\n",
    "\n",
    "#datas_unique = datas_unique[datas_unique['adress'] != 'oi']\n",
    "#datas_unique = datas_unique[datas_unique['adress'] != 'Oi']\n",
    "#datas_unique = datas_unique[datas_unique['adress'] != 'OI']\n",
    "#datas_unique = datas_unique[datas_unique['adress'] != 'oI']\n",
    "#datas_unique = datas_unique[datas_unique['adress'] != 'Oi ']\n",
    "#datas_unique = datas_unique[datas_unique['adress'] != 'ø']\n",
    "#datas_unique = datas_unique.reset_index(drop=True)"
   ]
  },
  {
   "cell_type": "code",
   "execution_count": null,
   "metadata": {},
   "outputs": [],
   "source": [
    "#for enaeki\n",
    "#datas_unique['adress'].value_counts()"
   ]
  },
  {
   "cell_type": "code",
   "execution_count": null,
   "metadata": {},
   "outputs": [],
   "source": [
    "datas.sort_values('n_keyword_tweets', ascending=False)"
   ]
  },
  {
   "cell_type": "code",
   "execution_count": null,
   "metadata": {},
   "outputs": [],
   "source": [
    "sns.distplot(np.log1p(datas_unique['n_following']))"
   ]
  },
  {
   "cell_type": "code",
   "execution_count": null,
   "metadata": {},
   "outputs": [],
   "source": [
    "datas_unique.sort_values(by='n_following', ascending=False)"
   ]
  },
  {
   "cell_type": "code",
   "execution_count": null,
   "metadata": {},
   "outputs": [],
   "source": [
    "sns.distplot(np.log1p(datas_unique['n_followed']))"
   ]
  },
  {
   "cell_type": "code",
   "execution_count": null,
   "metadata": {},
   "outputs": [],
   "source": [
    "datas_unique.sort_values(by='n_followed', ascending=False)"
   ]
  },
  {
   "cell_type": "code",
   "execution_count": null,
   "metadata": {},
   "outputs": [],
   "source": [
    "sns.distplot(np.log1p(datas_unique['n_tweets']))"
   ]
  },
  {
   "cell_type": "code",
   "execution_count": null,
   "metadata": {},
   "outputs": [],
   "source": [
    "datas_unique.sort_values(by='n_tweets', ascending=False)"
   ]
  },
  {
   "cell_type": "code",
   "execution_count": null,
   "metadata": {},
   "outputs": [],
   "source": [
    "sns.distplot(np.log1p(datas_unique['n_favorited']))"
   ]
  },
  {
   "cell_type": "code",
   "execution_count": null,
   "metadata": {},
   "outputs": [],
   "source": [
    "sns.countplot(datas_unique['n_favorited'])"
   ]
  },
  {
   "cell_type": "code",
   "execution_count": null,
   "metadata": {},
   "outputs": [],
   "source": [
    "datas_unique.sort_values(by='n_favorited', ascending=False)"
   ]
  },
  {
   "cell_type": "code",
   "execution_count": null,
   "metadata": {},
   "outputs": [],
   "source": [
    "datas"
   ]
  },
  {
   "cell_type": "markdown",
   "metadata": {},
   "source": [
    "# キーワードと共にツイートされることが多かった単語"
   ]
  },
  {
   "cell_type": "code",
   "execution_count": null,
   "metadata": {},
   "outputs": [],
   "source": [
    "import MeCab\n",
    "import re\n",
    "\n",
    "m = MeCab.Tagger(\"-d /usr/local/lib/mecab/dic/mecab-ipadic-neologd/\")\n",
    "word_list = []\n",
    "for i in range(datas.shape[0]):\n",
    "    if type(datas.text[i]) == str:\n",
    "        texts = m.parse(datas['text'][i])\n",
    "        texts = texts.split('\\n')\n",
    "        for text in texts:\n",
    "            text = re.split('[\\t,]', text)\n",
    "            if text[0] == 'EOS' or text[0] == '':\n",
    "                pass\n",
    "            elif text[1] == '名詞': \n",
    "                word_list.append(text[0])\n",
    "#            elif text[1] == '名詞' and text[2] == '一般': \n",
    "#                word_list.append(text[0])\n",
    "#            elif text[1] == '名詞' and text[2] == 'サ変接続': \n",
    "#                word_list.append(text[0])\n",
    "#            elif text[1] == '名詞' and text[2] == '形容動詞語幹': \n",
    "#                word_list.append(text[0])\n",
    "            elif text[1] == '形容詞' and text[2] == '自立': \n",
    "                word_list.append(text[0])"
   ]
  },
  {
   "cell_type": "code",
   "execution_count": null,
   "metadata": {},
   "outputs": [],
   "source": [
    "from collections import Counter\n",
    "\n",
    "counter = Counter(word_list)\n",
    "for word, cnt in counter.most_common():\n",
    "    print(word, cnt)"
   ]
  },
  {
   "cell_type": "code",
   "execution_count": null,
   "metadata": {},
   "outputs": [],
   "source": [
    "stop_words = ['in', 'ー', 'bot', 'https', 'co', '場所']#, 'ない', '無い']\n",
    "\n",
    "def remove_specified_values(arr, value):\n",
    "    while value in arr:\n",
    "        arr.remove(value)\n",
    "\n",
    "for word in stop_words:\n",
    "    remove_specified_values(word_list, word)"
   ]
  },
  {
   "cell_type": "code",
   "execution_count": null,
   "metadata": {},
   "outputs": [],
   "source": [
    "counter = Counter(word_list)\n",
    "for word, cnt in counter.most_common():\n",
    "    print(word, cnt)"
   ]
  },
  {
   "cell_type": "code",
   "execution_count": null,
   "metadata": {},
   "outputs": [],
   "source": [
    "word_list = ' '.join(word_list)"
   ]
  },
  {
   "cell_type": "code",
   "execution_count": null,
   "metadata": {},
   "outputs": [],
   "source": [
    "from wordcloud import WordCloud\n",
    "\n",
    "fpath = \"~/Library/Fonts/RictyDiminished-Regular.ttf\"\n",
    "\n",
    "wordcloud = WordCloud(background_color=\"white\", font_path=fpath, width=900, height=500, max_words=80).generate(word_list)\n",
    "\n",
    "plt.figure(figsize=(10,8))\n",
    "plt.imshow(wordcloud)\n",
    "plt.axis(\"off\")\n",
    "plt.savefig(outfile)\n",
    "plt.show()\n",
    "#一文字の単語は表示してくれない..."
   ]
  },
  {
   "cell_type": "code",
   "execution_count": null,
   "metadata": {},
   "outputs": [],
   "source": []
  }
 ],
 "metadata": {
  "kernelspec": {
   "display_name": "Python 3",
   "language": "python",
   "name": "python3"
  },
  "language_info": {
   "codemirror_mode": {
    "name": "ipython",
    "version": 3
   },
   "file_extension": ".py",
   "mimetype": "text/x-python",
   "name": "python",
   "nbconvert_exporter": "python",
   "pygments_lexer": "ipython3",
   "version": "3.6.4"
  }
 },
 "nbformat": 4,
 "nbformat_minor": 2
}
