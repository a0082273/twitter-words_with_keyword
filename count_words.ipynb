{
 "cells": [
  {
   "cell_type": "code",
   "execution_count": 1,
   "metadata": {},
   "outputs": [],
   "source": [
    "import pandas as pd\n",
    "import seaborn as sns\n",
    "import matplotlib.pyplot as plt"
   ]
  },
  {
   "cell_type": "code",
   "execution_count": 2,
   "metadata": {},
   "outputs": [],
   "source": [
    "pd.set_option(\"display.max_rows\", 300)  #表示する行数を増やす"
   ]
  },
  {
   "cell_type": "code",
   "execution_count": 3,
   "metadata": {},
   "outputs": [],
   "source": [
    "#明智は人名、大湫はツイートなし、日吉は京都にも同じ地名あり、山岡は人名ラーメン屋、釜戸はご飯、明世はツイートなし、土岐は人名、陶は人名器\n",
    "keyword_list = ['ena', 'nakatsugawa', 'tajimi', 'mizunami', 'iwamura', 'kushihara', 'ueyahagi', 'daishu', 'inetsu', # 分析可能\n",
    "                'meiyo', 'hiyoshi', 'kamako', 'tou', 'yamaoka', 'toki', 'akechi', #分析困難\n",
    "                '\"obaachanshi\"', '\"saiensuwa-rudo\"', '\"kinaata\" OR \"kinaata\"']\n",
    "keyword = keyword_list[-1]\n",
    "#period = '2018-06-30'\n",
    "period = '2018-07-01'\n",
    "infile = \"tweets_in_a_week/\"+keyword+period+\".csv\"\n",
    "outfile = \"tweets_in_a_week/\"+keyword+period+\".png\""
   ]
  },
  {
   "cell_type": "code",
   "execution_count": 4,
   "metadata": {},
   "outputs": [
    {
     "name": "stderr",
     "output_type": "stream",
     "text": [
      "/Users/a0082273/.pyenv/versions/anaconda3-5.1.0/lib/python3.6/site-packages/ipykernel_launcher.py:1: DeprecationWarning: 'U' mode is deprecated\n",
      "  \"\"\"Entry point for launching an IPython kernel.\n"
     ]
    }
   ],
   "source": [
    "datas = pd.read_csv(open(infile, 'rU'), encoding='utf-8')"
   ]
  },
  {
   "cell_type": "code",
   "execution_count": 5,
   "metadata": {
    "scrolled": true
   },
   "outputs": [
    {
     "data": {
      "text/html": [
       "<div>\n",
       "<style scoped>\n",
       "    .dataframe tbody tr th:only-of-type {\n",
       "        vertical-align: middle;\n",
       "    }\n",
       "\n",
       "    .dataframe tbody tr th {\n",
       "        vertical-align: top;\n",
       "    }\n",
       "\n",
       "    .dataframe thead th {\n",
       "        text-align: right;\n",
       "    }\n",
       "</style>\n",
       "<table border=\"1\" class=\"dataframe\">\n",
       "  <thead>\n",
       "    <tr style=\"text-align: right;\">\n",
       "      <th></th>\n",
       "      <th>Unnamed: 0</th>\n",
       "      <th>time</th>\n",
       "      <th>id</th>\n",
       "      <th>name</th>\n",
       "      <th>profile</th>\n",
       "      <th>n_following</th>\n",
       "      <th>n_followed</th>\n",
       "      <th>n_tweets</th>\n",
       "      <th>adress</th>\n",
       "      <th>n_favorited</th>\n",
       "      <th>text</th>\n",
       "    </tr>\n",
       "  </thead>\n",
       "  <tbody>\n",
       "    <tr>\n",
       "      <th>0</th>\n",
       "      <td>0</td>\n",
       "      <td>Mon Jul 02 15:26:32 +0000 2018</td>\n",
       "      <td>one_more_signal</td>\n",
       "      <td>rara_photo</td>\n",
       "      <td>言葉のいらない世界の住人（photo life） instagram : https://t...</td>\n",
       "      <td>61</td>\n",
       "      <td>32</td>\n",
       "      <td>1137</td>\n",
       "      <td>日本 愛知</td>\n",
       "      <td>0</td>\n",
       "      <td>きなあた瑞浪のバイキング閉店しちゃってラーメン屋になってた。ますます行く回数減るわ。#きなあ...</td>\n",
       "    </tr>\n",
       "  </tbody>\n",
       "</table>\n",
       "</div>"
      ],
      "text/plain": [
       "   Unnamed: 0                            time               id        name  \\\n",
       "0           0  Mon Jul 02 15:26:32 +0000 2018  one_more_signal  rara_photo   \n",
       "\n",
       "                                             profile  n_following  n_followed  \\\n",
       "0  言葉のいらない世界の住人（photo life） instagram : https://t...           61          32   \n",
       "\n",
       "   n_tweets adress  n_favorited  \\\n",
       "0      1137  日本 愛知            0   \n",
       "\n",
       "                                                text  \n",
       "0  きなあた瑞浪のバイキング閉店しちゃってラーメン屋になってた。ますます行く回数減るわ。#きなあ...  "
      ]
     },
     "execution_count": 5,
     "metadata": {},
     "output_type": "execute_result"
    }
   ],
   "source": [
    "datas"
   ]
  },
  {
   "cell_type": "markdown",
   "metadata": {},
   "source": [
    "# botとか不適切やツイートを除く"
   ]
  },
  {
   "cell_type": "code",
   "execution_count": 6,
   "metadata": {
    "scrolled": true
   },
   "outputs": [],
   "source": [
    "datas = datas.drop('Unnamed: 0', axis=1)"
   ]
  },
  {
   "cell_type": "code",
   "execution_count": 7,
   "metadata": {
    "scrolled": true
   },
   "outputs": [],
   "source": [
    "improper_col = []\n",
    "for col in range(datas.shape[0]):\n",
    "#    if type(datas.name[col]) != str or type(datas.profile[col]) != str or type(datas.text[col]) != str:\n",
    "    if type(datas.text[col]) != str:\n",
    "        print('-'*40)\n",
    "        print(col)\n",
    "        print(type(datas.name[col]), type(datas.profile[col]), type(datas.text[col]),)\n",
    "        print(datas.iloc[col])\n",
    "        improper_col.append(col)\n",
    "datas = datas.drop(improper_col, axis=0)\n",
    "datas = datas.reset_index(drop=True)"
   ]
  },
  {
   "cell_type": "code",
   "execution_count": 8,
   "metadata": {
    "scrolled": true
   },
   "outputs": [],
   "source": [
    "improper_names  = ['bot', 'Bot', 'BOT', 'ぼっと', '情報', '案内', '相互', '出会', 'セフレ', 'エッチ', '法人',\n",
    "                   '宮部雪宗', '多治見ネオ',\n",
    "#                   'フィギュア', '空き家オールバンク', 'つけめん 恵那く', 'すぎたけ', '東城咲耶子'#for ena\n",
    "#                   '石田麦', '創作さん', '恵那(癒し力高め中)', 'どう美じゅ合同誌', 'よつばと'] #for ena\n",
    "                  ] \n",
    "improper_profiles  = ['improper_words', 'bot', 'Bot', 'BOT', 'ぼっと',\n",
    "#                      'えなfam', 'ｶﾞﾁだん', 'ガチだん', 'Καρδιά μου', '月がきれい', '成人済み腐女子', #for ena\n",
    "#                      'リトルアーモリー', 'アクティブなインドア派声優'] #for ena\n",
    "                     ]\n",
    "improper_texts  = ['improper_words', \"I'm at\", '相互',\n",
    "#                   '岩村明憲', '岩村努', '岩村愛', #for iwamura\n",
    "#                   \"稲津けんご\", #for inatsu\n",
    "#                   '斉藤恵那', '恵那さん', '恵那ちゃん', 'リトルアーモリー', 'よつばと'] #for ena\n",
    "                  ] #for ena\n",
    "\n",
    "for col in range(datas.shape[0]):\n",
    "    for word in improper_names:\n",
    "        if word in datas['name'][col]:\n",
    "            datas['profile'][col] = 'improper_words'\n",
    "            break\n",
    "    if type(datas['profile'][col]) == str:\n",
    "        for word in improper_profiles:\n",
    "            if word in datas['profile'][col]:\n",
    "                datas['text'][col] = 'improper_words'\n",
    "                break\n",
    "    for word in improper_texts:\n",
    "        if word in datas['text'][col]:\n",
    "            datas = datas.drop(col, axis=0)\n",
    "            break\n",
    "\n",
    "datas = datas.reset_index(drop=True)"
   ]
  },
  {
   "cell_type": "code",
   "execution_count": 9,
   "metadata": {
    "scrolled": true
   },
   "outputs": [
    {
     "data": {
      "text/html": [
       "<div>\n",
       "<style scoped>\n",
       "    .dataframe tbody tr th:only-of-type {\n",
       "        vertical-align: middle;\n",
       "    }\n",
       "\n",
       "    .dataframe tbody tr th {\n",
       "        vertical-align: top;\n",
       "    }\n",
       "\n",
       "    .dataframe thead th {\n",
       "        text-align: right;\n",
       "    }\n",
       "</style>\n",
       "<table border=\"1\" class=\"dataframe\">\n",
       "  <thead>\n",
       "    <tr style=\"text-align: right;\">\n",
       "      <th></th>\n",
       "      <th>time</th>\n",
       "      <th>id</th>\n",
       "      <th>name</th>\n",
       "      <th>profile</th>\n",
       "      <th>n_following</th>\n",
       "      <th>n_followed</th>\n",
       "      <th>n_tweets</th>\n",
       "      <th>adress</th>\n",
       "      <th>n_favorited</th>\n",
       "      <th>text</th>\n",
       "    </tr>\n",
       "  </thead>\n",
       "  <tbody>\n",
       "    <tr>\n",
       "      <th>0</th>\n",
       "      <td>Mon Jul 02 15:26:32 +0000 2018</td>\n",
       "      <td>one_more_signal</td>\n",
       "      <td>rara_photo</td>\n",
       "      <td>言葉のいらない世界の住人（photo life） instagram : https://t...</td>\n",
       "      <td>61</td>\n",
       "      <td>32</td>\n",
       "      <td>1137</td>\n",
       "      <td>日本 愛知</td>\n",
       "      <td>0</td>\n",
       "      <td>きなあた瑞浪のバイキング閉店しちゃってラーメン屋になってた。ますます行く回数減るわ。#きなあ...</td>\n",
       "    </tr>\n",
       "  </tbody>\n",
       "</table>\n",
       "</div>"
      ],
      "text/plain": [
       "                             time               id        name  \\\n",
       "0  Mon Jul 02 15:26:32 +0000 2018  one_more_signal  rara_photo   \n",
       "\n",
       "                                             profile  n_following  n_followed  \\\n",
       "0  言葉のいらない世界の住人（photo life） instagram : https://t...           61          32   \n",
       "\n",
       "   n_tweets adress  n_favorited  \\\n",
       "0      1137  日本 愛知            0   \n",
       "\n",
       "                                                text  \n",
       "0  きなあた瑞浪のバイキング閉店しちゃってラーメン屋になってた。ますます行く回数減るわ。#きなあ...  "
      ]
     },
     "execution_count": 9,
     "metadata": {},
     "output_type": "execute_result"
    }
   ],
   "source": [
    "datas"
   ]
  },
  {
   "cell_type": "markdown",
   "metadata": {},
   "source": [
    "# キーワードを多くツイートした人"
   ]
  },
  {
   "cell_type": "code",
   "execution_count": 10,
   "metadata": {
    "scrolled": true
   },
   "outputs": [],
   "source": [
    "n_keyword_tweets = datas['id'].value_counts()\n",
    "n_keyword_tweets_arr = []\n",
    "\n",
    "for col in range(datas.shape[0]):\n",
    "    n_keyword_tweets_arr.append(n_keyword_tweets[datas['id'][col]])\n",
    "datas['n_keyword_tweets'] = n_keyword_tweets_arr\n",
    "\n",
    "del n_keyword_tweets, n_keyword_tweets_arr"
   ]
  },
  {
   "cell_type": "code",
   "execution_count": 11,
   "metadata": {
    "scrolled": true
   },
   "outputs": [
    {
     "name": "stderr",
     "output_type": "stream",
     "text": [
      "/Users/a0082273/.pyenv/versions/anaconda3-5.1.0/lib/python3.6/site-packages/numpy/core/_methods.py:135: RuntimeWarning: Degrees of freedom <= 0 for slice\n",
      "  keepdims=keepdims)\n",
      "/Users/a0082273/.pyenv/versions/anaconda3-5.1.0/lib/python3.6/site-packages/numpy/core/_methods.py:127: RuntimeWarning: invalid value encountered in double_scalars\n",
      "  ret = ret.dtype.type(ret / rcount)\n",
      "/Users/a0082273/.pyenv/versions/anaconda3-5.1.0/lib/python3.6/site-packages/statsmodels/nonparametric/bandwidths.py:22: RuntimeWarning: invalid value encountered in minimum\n",
      "  return np.minimum(np.std(X, axis=0, ddof=1), IQR)\n",
      "/Users/a0082273/.pyenv/versions/anaconda3-5.1.0/lib/python3.6/site-packages/numpy/core/_methods.py:26: RuntimeWarning: invalid value encountered in reduce\n",
      "  return umr_maximum(a, axis, None, out, keepdims)\n"
     ]
    },
    {
     "data": {
      "text/plain": [
       "<matplotlib.axes._subplots.AxesSubplot at 0x1106c7780>"
      ]
     },
     "execution_count": 11,
     "metadata": {},
     "output_type": "execute_result"
    },
    {
     "data": {
      "image/png": "[encoded data removed]",
      "text/plain": [
       "<matplotlib.figure.Figure at 0x1106c7d30>"
      ]
     },
     "metadata": {},
     "output_type": "display_data"
    }
   ],
   "source": [
    "sns.distplot(datas['n_keyword_tweets'])"
   ]
  },
  {
   "cell_type": "code",
   "execution_count": 12,
   "metadata": {},
   "outputs": [
    {
     "data": {
      "text/html": [
       "<div>\n",
       "<style scoped>\n",
       "    .dataframe tbody tr th:only-of-type {\n",
       "        vertical-align: middle;\n",
       "    }\n",
       "\n",
       "    .dataframe tbody tr th {\n",
       "        vertical-align: top;\n",
       "    }\n",
       "\n",
       "    .dataframe thead th {\n",
       "        text-align: right;\n",
       "    }\n",
       "</style>\n",
       "<table border=\"1\" class=\"dataframe\">\n",
       "  <thead>\n",
       "    <tr style=\"text-align: right;\">\n",
       "      <th></th>\n",
       "      <th>time</th>\n",
       "      <th>id</th>\n",
       "      <th>name</th>\n",
       "      <th>profile</th>\n",
       "      <th>n_following</th>\n",
       "      <th>n_followed</th>\n",
       "      <th>n_tweets</th>\n",
       "      <th>adress</th>\n",
       "      <th>n_favorited</th>\n",
       "      <th>text</th>\n",
       "      <th>n_keyword_tweets</th>\n",
       "    </tr>\n",
       "  </thead>\n",
       "  <tbody>\n",
       "    <tr>\n",
       "      <th>0</th>\n",
       "      <td>Mon Jul 02 15:26:32 +0000 2018</td>\n",
       "      <td>one_more_signal</td>\n",
       "      <td>rara_photo</td>\n",
       "      <td>言葉のいらない世界の住人（photo life） instagram : https://t...</td>\n",
       "      <td>61</td>\n",
       "      <td>32</td>\n",
       "      <td>1137</td>\n",
       "      <td>日本 愛知</td>\n",
       "      <td>0</td>\n",
       "      <td>きなあた瑞浪のバイキング閉店しちゃってラーメン屋になってた。ますます行く回数減るわ。#きなあ...</td>\n",
       "      <td>1</td>\n",
       "    </tr>\n",
       "  </tbody>\n",
       "</table>\n",
       "</div>"
      ],
      "text/plain": [
       "                             time               id        name  \\\n",
       "0  Mon Jul 02 15:26:32 +0000 2018  one_more_signal  rara_photo   \n",
       "\n",
       "                                             profile  n_following  n_followed  \\\n",
       "0  言葉のいらない世界の住人（photo life） instagram : https://t...           61          32   \n",
       "\n",
       "   n_tweets adress  n_favorited  \\\n",
       "0      1137  日本 愛知            0   \n",
       "\n",
       "                                                text  n_keyword_tweets  \n",
       "0  きなあた瑞浪のバイキング閉店しちゃってラーメン屋になってた。ますます行く回数減るわ。#きなあ...                 1  "
      ]
     },
     "execution_count": 12,
     "metadata": {},
     "output_type": "execute_result"
    }
   ],
   "source": [
    "datas.sort_values('n_keyword_tweets', ascending=False)[:100]"
   ]
  },
  {
   "cell_type": "markdown",
   "metadata": {},
   "source": [
    "# フォロワー数とか"
   ]
  },
  {
   "cell_type": "code",
   "execution_count": 13,
   "metadata": {
    "scrolled": true
   },
   "outputs": [
    {
     "data": {
      "text/html": [
       "<div>\n",
       "<style scoped>\n",
       "    .dataframe tbody tr th:only-of-type {\n",
       "        vertical-align: middle;\n",
       "    }\n",
       "\n",
       "    .dataframe tbody tr th {\n",
       "        vertical-align: top;\n",
       "    }\n",
       "\n",
       "    .dataframe thead th {\n",
       "        text-align: right;\n",
       "    }\n",
       "</style>\n",
       "<table border=\"1\" class=\"dataframe\">\n",
       "  <thead>\n",
       "    <tr style=\"text-align: right;\">\n",
       "      <th></th>\n",
       "      <th>time</th>\n",
       "      <th>id</th>\n",
       "      <th>name</th>\n",
       "      <th>profile</th>\n",
       "      <th>n_following</th>\n",
       "      <th>n_followed</th>\n",
       "      <th>n_tweets</th>\n",
       "      <th>adress</th>\n",
       "      <th>n_favorited</th>\n",
       "      <th>text</th>\n",
       "      <th>n_keyword_tweets</th>\n",
       "    </tr>\n",
       "  </thead>\n",
       "  <tbody>\n",
       "    <tr>\n",
       "      <th>0</th>\n",
       "      <td>Mon Jul 02 15:26:32 +0000 2018</td>\n",
       "      <td>one_more_signal</td>\n",
       "      <td>rara_photo</td>\n",
       "      <td>言葉のいらない世界の住人（photo life） instagram : https://t...</td>\n",
       "      <td>61</td>\n",
       "      <td>32</td>\n",
       "      <td>1137</td>\n",
       "      <td>日本 愛知</td>\n",
       "      <td>0</td>\n",
       "      <td>きなあた瑞浪のバイキング閉店しちゃってラーメン屋になってた。ますます行く回数減るわ。#きなあ...</td>\n",
       "      <td>1</td>\n",
       "    </tr>\n",
       "  </tbody>\n",
       "</table>\n",
       "</div>"
      ],
      "text/plain": [
       "                             time               id        name  \\\n",
       "0  Mon Jul 02 15:26:32 +0000 2018  one_more_signal  rara_photo   \n",
       "\n",
       "                                             profile  n_following  n_followed  \\\n",
       "0  言葉のいらない世界の住人（photo life） instagram : https://t...           61          32   \n",
       "\n",
       "   n_tweets adress  n_favorited  \\\n",
       "0      1137  日本 愛知            0   \n",
       "\n",
       "                                                text  n_keyword_tweets  \n",
       "0  きなあた瑞浪のバイキング閉店しちゃってラーメン屋になってた。ますます行く回数減るわ。#きなあ...                 1  "
      ]
     },
     "execution_count": 13,
     "metadata": {},
     "output_type": "execute_result"
    }
   ],
   "source": [
    "datas_unique = datas.drop_duplicates(subset='id')\n",
    "datas_unique = datas_unique.reset_index(drop=True)\n",
    "datas_unique"
   ]
  },
  {
   "cell_type": "code",
   "execution_count": 14,
   "metadata": {},
   "outputs": [
    {
     "data": {
      "text/html": [
       "<div>\n",
       "<style scoped>\n",
       "    .dataframe tbody tr th:only-of-type {\n",
       "        vertical-align: middle;\n",
       "    }\n",
       "\n",
       "    .dataframe tbody tr th {\n",
       "        vertical-align: top;\n",
       "    }\n",
       "\n",
       "    .dataframe thead th {\n",
       "        text-align: right;\n",
       "    }\n",
       "</style>\n",
       "<table border=\"1\" class=\"dataframe\">\n",
       "  <thead>\n",
       "    <tr style=\"text-align: right;\">\n",
       "      <th></th>\n",
       "      <th>n_following</th>\n",
       "      <th>n_followed</th>\n",
       "      <th>n_tweets</th>\n",
       "      <th>n_favorited</th>\n",
       "      <th>n_keyword_tweets</th>\n",
       "    </tr>\n",
       "  </thead>\n",
       "  <tbody>\n",
       "    <tr>\n",
       "      <th>count</th>\n",
       "      <td>1.0</td>\n",
       "      <td>1.0</td>\n",
       "      <td>1.0</td>\n",
       "      <td>1.0</td>\n",
       "      <td>1.0</td>\n",
       "    </tr>\n",
       "    <tr>\n",
       "      <th>mean</th>\n",
       "      <td>61.0</td>\n",
       "      <td>32.0</td>\n",
       "      <td>1137.0</td>\n",
       "      <td>0.0</td>\n",
       "      <td>1.0</td>\n",
       "    </tr>\n",
       "    <tr>\n",
       "      <th>std</th>\n",
       "      <td>NaN</td>\n",
       "      <td>NaN</td>\n",
       "      <td>NaN</td>\n",
       "      <td>NaN</td>\n",
       "      <td>NaN</td>\n",
       "    </tr>\n",
       "    <tr>\n",
       "      <th>min</th>\n",
       "      <td>61.0</td>\n",
       "      <td>32.0</td>\n",
       "      <td>1137.0</td>\n",
       "      <td>0.0</td>\n",
       "      <td>1.0</td>\n",
       "    </tr>\n",
       "    <tr>\n",
       "      <th>25%</th>\n",
       "      <td>61.0</td>\n",
       "      <td>32.0</td>\n",
       "      <td>1137.0</td>\n",
       "      <td>0.0</td>\n",
       "      <td>1.0</td>\n",
       "    </tr>\n",
       "    <tr>\n",
       "      <th>50%</th>\n",
       "      <td>61.0</td>\n",
       "      <td>32.0</td>\n",
       "      <td>1137.0</td>\n",
       "      <td>0.0</td>\n",
       "      <td>1.0</td>\n",
       "    </tr>\n",
       "    <tr>\n",
       "      <th>75%</th>\n",
       "      <td>61.0</td>\n",
       "      <td>32.0</td>\n",
       "      <td>1137.0</td>\n",
       "      <td>0.0</td>\n",
       "      <td>1.0</td>\n",
       "    </tr>\n",
       "    <tr>\n",
       "      <th>max</th>\n",
       "      <td>61.0</td>\n",
       "      <td>32.0</td>\n",
       "      <td>1137.0</td>\n",
       "      <td>0.0</td>\n",
       "      <td>1.0</td>\n",
       "    </tr>\n",
       "  </tbody>\n",
       "</table>\n",
       "</div>"
      ],
      "text/plain": [
       "       n_following  n_followed  n_tweets  n_favorited  n_keyword_tweets\n",
       "count          1.0         1.0       1.0          1.0               1.0\n",
       "mean          61.0        32.0    1137.0          0.0               1.0\n",
       "std            NaN         NaN       NaN          NaN               NaN\n",
       "min           61.0        32.0    1137.0          0.0               1.0\n",
       "25%           61.0        32.0    1137.0          0.0               1.0\n",
       "50%           61.0        32.0    1137.0          0.0               1.0\n",
       "75%           61.0        32.0    1137.0          0.0               1.0\n",
       "max           61.0        32.0    1137.0          0.0               1.0"
      ]
     },
     "execution_count": 14,
     "metadata": {},
     "output_type": "execute_result"
    }
   ],
   "source": [
    "datas_unique.describe()"
   ]
  },
  {
   "cell_type": "code",
   "execution_count": 15,
   "metadata": {
    "scrolled": true
   },
   "outputs": [
    {
     "name": "stderr",
     "output_type": "stream",
     "text": [
      "/Users/a0082273/.pyenv/versions/anaconda3-5.1.0/lib/python3.6/site-packages/numpy/core/_methods.py:135: RuntimeWarning: Degrees of freedom <= 0 for slice\n",
      "  keepdims=keepdims)\n",
      "/Users/a0082273/.pyenv/versions/anaconda3-5.1.0/lib/python3.6/site-packages/numpy/core/_methods.py:127: RuntimeWarning: invalid value encountered in double_scalars\n",
      "  ret = ret.dtype.type(ret / rcount)\n",
      "/Users/a0082273/.pyenv/versions/anaconda3-5.1.0/lib/python3.6/site-packages/statsmodels/nonparametric/bandwidths.py:22: RuntimeWarning: invalid value encountered in minimum\n",
      "  return np.minimum(np.std(X, axis=0, ddof=1), IQR)\n",
      "/Users/a0082273/.pyenv/versions/anaconda3-5.1.0/lib/python3.6/site-packages/numpy/core/_methods.py:26: RuntimeWarning: invalid value encountered in reduce\n",
      "  return umr_maximum(a, axis, None, out, keepdims)\n"
     ]
    },
    {
     "data": {
      "text/plain": [
       "<matplotlib.axes._subplots.AxesSubplot at 0x110709160>"
      ]
     },
     "execution_count": 15,
     "metadata": {},
     "output_type": "execute_result"
    },
    {
     "data": {
      "image/png": "[encoded data removed]",
      "text/plain": [
       "<matplotlib.figure.Figure at 0x1a19e60fd0>"
      ]
     },
     "metadata": {},
     "output_type": "display_data"
    }
   ],
   "source": [
    "sns.distplot(np.log1p(datas_unique['n_following']))"
   ]
  },
  {
   "cell_type": "code",
   "execution_count": 16,
   "metadata": {},
   "outputs": [
    {
     "data": {
      "text/html": [
       "<div>\n",
       "<style scoped>\n",
       "    .dataframe tbody tr th:only-of-type {\n",
       "        vertical-align: middle;\n",
       "    }\n",
       "\n",
       "    .dataframe tbody tr th {\n",
       "        vertical-align: top;\n",
       "    }\n",
       "\n",
       "    .dataframe thead th {\n",
       "        text-align: right;\n",
       "    }\n",
       "</style>\n",
       "<table border=\"1\" class=\"dataframe\">\n",
       "  <thead>\n",
       "    <tr style=\"text-align: right;\">\n",
       "      <th></th>\n",
       "      <th>time</th>\n",
       "      <th>id</th>\n",
       "      <th>name</th>\n",
       "      <th>profile</th>\n",
       "      <th>n_following</th>\n",
       "      <th>n_followed</th>\n",
       "      <th>n_tweets</th>\n",
       "      <th>adress</th>\n",
       "      <th>n_favorited</th>\n",
       "      <th>text</th>\n",
       "      <th>n_keyword_tweets</th>\n",
       "    </tr>\n",
       "  </thead>\n",
       "  <tbody>\n",
       "    <tr>\n",
       "      <th>0</th>\n",
       "      <td>Mon Jul 02 15:26:32 +0000 2018</td>\n",
       "      <td>one_more_signal</td>\n",
       "      <td>rara_photo</td>\n",
       "      <td>言葉のいらない世界の住人（photo life） instagram : https://t...</td>\n",
       "      <td>61</td>\n",
       "      <td>32</td>\n",
       "      <td>1137</td>\n",
       "      <td>日本 愛知</td>\n",
       "      <td>0</td>\n",
       "      <td>きなあた瑞浪のバイキング閉店しちゃってラーメン屋になってた。ますます行く回数減るわ。#きなあ...</td>\n",
       "      <td>1</td>\n",
       "    </tr>\n",
       "  </tbody>\n",
       "</table>\n",
       "</div>"
      ],
      "text/plain": [
       "                             time               id        name  \\\n",
       "0  Mon Jul 02 15:26:32 +0000 2018  one_more_signal  rara_photo   \n",
       "\n",
       "                                             profile  n_following  n_followed  \\\n",
       "0  言葉のいらない世界の住人（photo life） instagram : https://t...           61          32   \n",
       "\n",
       "   n_tweets adress  n_favorited  \\\n",
       "0      1137  日本 愛知            0   \n",
       "\n",
       "                                                text  n_keyword_tweets  \n",
       "0  きなあた瑞浪のバイキング閉店しちゃってラーメン屋になってた。ますます行く回数減るわ。#きなあ...                 1  "
      ]
     },
     "execution_count": 16,
     "metadata": {},
     "output_type": "execute_result"
    }
   ],
   "source": [
    "datas_unique.sort_values(by='n_following', ascending=False)"
   ]
  },
  {
   "cell_type": "code",
   "execution_count": 17,
   "metadata": {},
   "outputs": [
    {
     "name": "stderr",
     "output_type": "stream",
     "text": [
      "/Users/a0082273/.pyenv/versions/anaconda3-5.1.0/lib/python3.6/site-packages/numpy/core/_methods.py:135: RuntimeWarning: Degrees of freedom <= 0 for slice\n",
      "  keepdims=keepdims)\n",
      "/Users/a0082273/.pyenv/versions/anaconda3-5.1.0/lib/python3.6/site-packages/numpy/core/_methods.py:127: RuntimeWarning: invalid value encountered in double_scalars\n",
      "  ret = ret.dtype.type(ret / rcount)\n",
      "/Users/a0082273/.pyenv/versions/anaconda3-5.1.0/lib/python3.6/site-packages/statsmodels/nonparametric/bandwidths.py:22: RuntimeWarning: invalid value encountered in minimum\n",
      "  return np.minimum(np.std(X, axis=0, ddof=1), IQR)\n",
      "/Users/a0082273/.pyenv/versions/anaconda3-5.1.0/lib/python3.6/site-packages/numpy/core/_methods.py:26: RuntimeWarning: invalid value encountered in reduce\n",
      "  return umr_maximum(a, axis, None, out, keepdims)\n"
     ]
    },
    {
     "data": {
      "text/plain": [
       "<matplotlib.axes._subplots.AxesSubplot at 0x1a19ef0cc0>"
      ]
     },
     "execution_count": 17,
     "metadata": {},
     "output_type": "execute_result"
    },
    {
     "data": {
      "image/png": "[encoded data removed]",
      "text/plain": [
       "<matplotlib.figure.Figure at 0x1a19ed5860>"
      ]
     },
     "metadata": {},
     "output_type": "display_data"
    }
   ],
   "source": [
    "sns.distplot(np.log1p(datas_unique['n_followed']))"
   ]
  },
  {
   "cell_type": "code",
   "execution_count": 18,
   "metadata": {},
   "outputs": [
    {
     "data": {
      "text/html": [
       "<div>\n",
       "<style scoped>\n",
       "    .dataframe tbody tr th:only-of-type {\n",
       "        vertical-align: middle;\n",
       "    }\n",
       "\n",
       "    .dataframe tbody tr th {\n",
       "        vertical-align: top;\n",
       "    }\n",
       "\n",
       "    .dataframe thead th {\n",
       "        text-align: right;\n",
       "    }\n",
       "</style>\n",
       "<table border=\"1\" class=\"dataframe\">\n",
       "  <thead>\n",
       "    <tr style=\"text-align: right;\">\n",
       "      <th></th>\n",
       "      <th>time</th>\n",
       "      <th>id</th>\n",
       "      <th>name</th>\n",
       "      <th>profile</th>\n",
       "      <th>n_following</th>\n",
       "      <th>n_followed</th>\n",
       "      <th>n_tweets</th>\n",
       "      <th>adress</th>\n",
       "      <th>n_favorited</th>\n",
       "      <th>text</th>\n",
       "      <th>n_keyword_tweets</th>\n",
       "    </tr>\n",
       "  </thead>\n",
       "  <tbody>\n",
       "    <tr>\n",
       "      <th>0</th>\n",
       "      <td>Mon Jul 02 15:26:32 +0000 2018</td>\n",
       "      <td>one_more_signal</td>\n",
       "      <td>rara_photo</td>\n",
       "      <td>言葉のいらない世界の住人（photo life） instagram : https://t...</td>\n",
       "      <td>61</td>\n",
       "      <td>32</td>\n",
       "      <td>1137</td>\n",
       "      <td>日本 愛知</td>\n",
       "      <td>0</td>\n",
       "      <td>きなあた瑞浪のバイキング閉店しちゃってラーメン屋になってた。ますます行く回数減るわ。#きなあ...</td>\n",
       "      <td>1</td>\n",
       "    </tr>\n",
       "  </tbody>\n",
       "</table>\n",
       "</div>"
      ],
      "text/plain": [
       "                             time               id        name  \\\n",
       "0  Mon Jul 02 15:26:32 +0000 2018  one_more_signal  rara_photo   \n",
       "\n",
       "                                             profile  n_following  n_followed  \\\n",
       "0  言葉のいらない世界の住人（photo life） instagram : https://t...           61          32   \n",
       "\n",
       "   n_tweets adress  n_favorited  \\\n",
       "0      1137  日本 愛知            0   \n",
       "\n",
       "                                                text  n_keyword_tweets  \n",
       "0  きなあた瑞浪のバイキング閉店しちゃってラーメン屋になってた。ますます行く回数減るわ。#きなあ...                 1  "
      ]
     },
     "execution_count": 18,
     "metadata": {},
     "output_type": "execute_result"
    }
   ],
   "source": [
    "datas_unique.sort_values(by='n_followed', ascending=False)"
   ]
  },
  {
   "cell_type": "code",
   "execution_count": 19,
   "metadata": {},
   "outputs": [
    {
     "name": "stderr",
     "output_type": "stream",
     "text": [
      "/Users/a0082273/.pyenv/versions/anaconda3-5.1.0/lib/python3.6/site-packages/numpy/core/_methods.py:135: RuntimeWarning: Degrees of freedom <= 0 for slice\n",
      "  keepdims=keepdims)\n",
      "/Users/a0082273/.pyenv/versions/anaconda3-5.1.0/lib/python3.6/site-packages/numpy/core/_methods.py:127: RuntimeWarning: invalid value encountered in double_scalars\n",
      "  ret = ret.dtype.type(ret / rcount)\n",
      "/Users/a0082273/.pyenv/versions/anaconda3-5.1.0/lib/python3.6/site-packages/statsmodels/nonparametric/bandwidths.py:22: RuntimeWarning: invalid value encountered in minimum\n",
      "  return np.minimum(np.std(X, axis=0, ddof=1), IQR)\n",
      "/Users/a0082273/.pyenv/versions/anaconda3-5.1.0/lib/python3.6/site-packages/numpy/core/_methods.py:26: RuntimeWarning: invalid value encountered in reduce\n",
      "  return umr_maximum(a, axis, None, out, keepdims)\n"
     ]
    },
    {
     "data": {
      "text/plain": [
       "<matplotlib.axes._subplots.AxesSubplot at 0x1a19f31400>"
      ]
     },
     "execution_count": 19,
     "metadata": {},
     "output_type": "execute_result"
    },
    {
     "data": {
      "image/png": "[encoded data removed]",
      "text/plain": [
       "<matplotlib.figure.Figure at 0x1a19fd6cf8>"
      ]
     },
     "metadata": {},
     "output_type": "display_data"
    }
   ],
   "source": [
    "sns.distplot(np.log1p(datas_unique['n_tweets']))"
   ]
  },
  {
   "cell_type": "code",
   "execution_count": 20,
   "metadata": {},
   "outputs": [
    {
     "data": {
      "text/html": [
       "<div>\n",
       "<style scoped>\n",
       "    .dataframe tbody tr th:only-of-type {\n",
       "        vertical-align: middle;\n",
       "    }\n",
       "\n",
       "    .dataframe tbody tr th {\n",
       "        vertical-align: top;\n",
       "    }\n",
       "\n",
       "    .dataframe thead th {\n",
       "        text-align: right;\n",
       "    }\n",
       "</style>\n",
       "<table border=\"1\" class=\"dataframe\">\n",
       "  <thead>\n",
       "    <tr style=\"text-align: right;\">\n",
       "      <th></th>\n",
       "      <th>time</th>\n",
       "      <th>id</th>\n",
       "      <th>name</th>\n",
       "      <th>profile</th>\n",
       "      <th>n_following</th>\n",
       "      <th>n_followed</th>\n",
       "      <th>n_tweets</th>\n",
       "      <th>adress</th>\n",
       "      <th>n_favorited</th>\n",
       "      <th>text</th>\n",
       "      <th>n_keyword_tweets</th>\n",
       "    </tr>\n",
       "  </thead>\n",
       "  <tbody>\n",
       "    <tr>\n",
       "      <th>0</th>\n",
       "      <td>Mon Jul 02 15:26:32 +0000 2018</td>\n",
       "      <td>one_more_signal</td>\n",
       "      <td>rara_photo</td>\n",
       "      <td>言葉のいらない世界の住人（photo life） instagram : https://t...</td>\n",
       "      <td>61</td>\n",
       "      <td>32</td>\n",
       "      <td>1137</td>\n",
       "      <td>日本 愛知</td>\n",
       "      <td>0</td>\n",
       "      <td>きなあた瑞浪のバイキング閉店しちゃってラーメン屋になってた。ますます行く回数減るわ。#きなあ...</td>\n",
       "      <td>1</td>\n",
       "    </tr>\n",
       "  </tbody>\n",
       "</table>\n",
       "</div>"
      ],
      "text/plain": [
       "                             time               id        name  \\\n",
       "0  Mon Jul 02 15:26:32 +0000 2018  one_more_signal  rara_photo   \n",
       "\n",
       "                                             profile  n_following  n_followed  \\\n",
       "0  言葉のいらない世界の住人（photo life） instagram : https://t...           61          32   \n",
       "\n",
       "   n_tweets adress  n_favorited  \\\n",
       "0      1137  日本 愛知            0   \n",
       "\n",
       "                                                text  n_keyword_tweets  \n",
       "0  きなあた瑞浪のバイキング閉店しちゃってラーメン屋になってた。ますます行く回数減るわ。#きなあ...                 1  "
      ]
     },
     "execution_count": 20,
     "metadata": {},
     "output_type": "execute_result"
    }
   ],
   "source": [
    "datas_unique.sort_values(by='n_tweets', ascending=False)"
   ]
  },
  {
   "cell_type": "code",
   "execution_count": 21,
   "metadata": {},
   "outputs": [
    {
     "data": {
      "text/plain": [
       "日本 愛知    1\n",
       "Name: adress, dtype: int64"
      ]
     },
     "execution_count": 21,
     "metadata": {},
     "output_type": "execute_result"
    }
   ],
   "source": [
    "datas_unique['adress'].value_counts()"
   ]
  },
  {
   "cell_type": "code",
   "execution_count": 22,
   "metadata": {},
   "outputs": [
    {
     "name": "stderr",
     "output_type": "stream",
     "text": [
      "/Users/a0082273/.pyenv/versions/anaconda3-5.1.0/lib/python3.6/site-packages/numpy/core/_methods.py:135: RuntimeWarning: Degrees of freedom <= 0 for slice\n",
      "  keepdims=keepdims)\n",
      "/Users/a0082273/.pyenv/versions/anaconda3-5.1.0/lib/python3.6/site-packages/numpy/core/_methods.py:127: RuntimeWarning: invalid value encountered in double_scalars\n",
      "  ret = ret.dtype.type(ret / rcount)\n",
      "/Users/a0082273/.pyenv/versions/anaconda3-5.1.0/lib/python3.6/site-packages/statsmodels/nonparametric/bandwidths.py:22: RuntimeWarning: invalid value encountered in minimum\n",
      "  return np.minimum(np.std(X, axis=0, ddof=1), IQR)\n",
      "/Users/a0082273/.pyenv/versions/anaconda3-5.1.0/lib/python3.6/site-packages/numpy/core/_methods.py:26: RuntimeWarning: invalid value encountered in reduce\n",
      "  return umr_maximum(a, axis, None, out, keepdims)\n"
     ]
    },
    {
     "data": {
      "text/plain": [
       "<matplotlib.axes._subplots.AxesSubplot at 0x1a1a08c588>"
      ]
     },
     "execution_count": 22,
     "metadata": {},
     "output_type": "execute_result"
    },
    {
     "data": {
      "image/png": "[encoded data removed]",
      "text/plain": [
       "<matplotlib.figure.Figure at 0x1a19fe7978>"
      ]
     },
     "metadata": {},
     "output_type": "display_data"
    }
   ],
   "source": [
    "sns.distplot(np.log1p(datas_unique['n_favorited']))"
   ]
  },
  {
   "cell_type": "code",
   "execution_count": 23,
   "metadata": {},
   "outputs": [
    {
     "data": {
      "text/plain": [
       "<matplotlib.axes._subplots.AxesSubplot at 0x1a19ffc1d0>"
      ]
     },
     "execution_count": 23,
     "metadata": {},
     "output_type": "execute_result"
    },
    {
     "data": {
      "image/png": "[encoded data removed]",
      "text/plain": [
       "<matplotlib.figure.Figure at 0x1106f4240>"
      ]
     },
     "metadata": {},
     "output_type": "display_data"
    }
   ],
   "source": [
    "sns.countplot(datas_unique['n_favorited'])"
   ]
  },
  {
   "cell_type": "code",
   "execution_count": 24,
   "metadata": {},
   "outputs": [
    {
     "data": {
      "text/html": [
       "<div>\n",
       "<style scoped>\n",
       "    .dataframe tbody tr th:only-of-type {\n",
       "        vertical-align: middle;\n",
       "    }\n",
       "\n",
       "    .dataframe tbody tr th {\n",
       "        vertical-align: top;\n",
       "    }\n",
       "\n",
       "    .dataframe thead th {\n",
       "        text-align: right;\n",
       "    }\n",
       "</style>\n",
       "<table border=\"1\" class=\"dataframe\">\n",
       "  <thead>\n",
       "    <tr style=\"text-align: right;\">\n",
       "      <th></th>\n",
       "      <th>time</th>\n",
       "      <th>id</th>\n",
       "      <th>name</th>\n",
       "      <th>profile</th>\n",
       "      <th>n_following</th>\n",
       "      <th>n_followed</th>\n",
       "      <th>n_tweets</th>\n",
       "      <th>adress</th>\n",
       "      <th>n_favorited</th>\n",
       "      <th>text</th>\n",
       "      <th>n_keyword_tweets</th>\n",
       "    </tr>\n",
       "  </thead>\n",
       "  <tbody>\n",
       "    <tr>\n",
       "      <th>0</th>\n",
       "      <td>Mon Jul 02 15:26:32 +0000 2018</td>\n",
       "      <td>one_more_signal</td>\n",
       "      <td>rara_photo</td>\n",
       "      <td>言葉のいらない世界の住人（photo life） instagram : https://t...</td>\n",
       "      <td>61</td>\n",
       "      <td>32</td>\n",
       "      <td>1137</td>\n",
       "      <td>日本 愛知</td>\n",
       "      <td>0</td>\n",
       "      <td>きなあた瑞浪のバイキング閉店しちゃってラーメン屋になってた。ますます行く回数減るわ。#きなあ...</td>\n",
       "      <td>1</td>\n",
       "    </tr>\n",
       "  </tbody>\n",
       "</table>\n",
       "</div>"
      ],
      "text/plain": [
       "                             time               id        name  \\\n",
       "0  Mon Jul 02 15:26:32 +0000 2018  one_more_signal  rara_photo   \n",
       "\n",
       "                                             profile  n_following  n_followed  \\\n",
       "0  言葉のいらない世界の住人（photo life） instagram : https://t...           61          32   \n",
       "\n",
       "   n_tweets adress  n_favorited  \\\n",
       "0      1137  日本 愛知            0   \n",
       "\n",
       "                                                text  n_keyword_tweets  \n",
       "0  きなあた瑞浪のバイキング閉店しちゃってラーメン屋になってた。ますます行く回数減るわ。#きなあ...                 1  "
      ]
     },
     "execution_count": 24,
     "metadata": {},
     "output_type": "execute_result"
    }
   ],
   "source": [
    "datas_unique.sort_values(by='n_favorited', ascending=False)"
   ]
  },
  {
   "cell_type": "markdown",
   "metadata": {},
   "source": [
    "# キーワードと共にツイートされることが多かった単語"
   ]
  },
  {
   "cell_type": "code",
   "execution_count": 25,
   "metadata": {},
   "outputs": [],
   "source": [
    "import MeCab\n",
    "import re\n",
    "\n",
    "m = MeCab.Tagger(\"-d /usr/local/lib/mecab/dic/mecab-ipadic-neologd/\")\n",
    "word_list = []\n",
    "for i in range(datas.shape[0]):\n",
    "    if type(datas.text[i]) == str:\n",
    "        texts = m.parse(datas['text'][i])\n",
    "        texts = texts.split('\\n')\n",
    "        for text in texts:\n",
    "            text = re.split('[\\t,]', text)\n",
    "            if text[0] == 'EOS' or text[0] == '':\n",
    "                pass\n",
    "            elif text[1] == '名詞' and text[2] == '一般': \n",
    "                word_list.append(text[0])\n",
    "            elif text[1] == '名詞' and text[2] == 'サ変接続': \n",
    "                word_list.append(text[0])\n",
    "            elif text[1] == '名詞' and text[2] == '形容動詞語幹': \n",
    "                word_list.append(text[0])\n",
    "            elif text[1] == '形容詞' and text[2] == '自立': \n",
    "                word_list.append(text[0])"
   ]
  },
  {
   "cell_type": "code",
   "execution_count": 26,
   "metadata": {
    "scrolled": true
   },
   "outputs": [
    {
     "name": "stdout",
     "output_type": "stream",
     "text": [
      "バイキング 1\n",
      "閉店 1\n",
      "回数 1\n"
     ]
    }
   ],
   "source": [
    "from collections import Counter\n",
    "\n",
    "counter = Counter(word_list)\n",
    "for word, cnt in counter.most_common():\n",
    "    print(word, cnt)"
   ]
  },
  {
   "cell_type": "code",
   "execution_count": 27,
   "metadata": {},
   "outputs": [],
   "source": [
    "stop_words = ['in', 'ー', 'bot', 'ない', '無い', 'えな']\n",
    "\n",
    "def remove_specified_values(arr, value):\n",
    "    while value in arr:\n",
    "        arr.remove(value)\n",
    "\n",
    "for word in stop_words:\n",
    "    remove_specified_values(word_list, word)"
   ]
  },
  {
   "cell_type": "code",
   "execution_count": 28,
   "metadata": {
    "scrolled": true
   },
   "outputs": [
    {
     "name": "stdout",
     "output_type": "stream",
     "text": [
      "バイキング 1\n",
      "閉店 1\n",
      "回数 1\n"
     ]
    }
   ],
   "source": [
    "counter = Counter(word_list)\n",
    "for word, cnt in counter.most_common():\n",
    "    print(word, cnt)"
   ]
  },
  {
   "cell_type": "code",
   "execution_count": 29,
   "metadata": {},
   "outputs": [],
   "source": [
    "word_list = ' '.join(word_list)"
   ]
  },
  {
   "cell_type": "code",
   "execution_count": 30,
   "metadata": {
    "scrolled": true
   },
   "outputs": [
    {
     "data": {
      "image/png": "[encoded data removed]",
      "text/plain": [
       "<matplotlib.figure.Figure at 0x1a5ae3afd0>"
      ]
     },
     "metadata": {},
     "output_type": "display_data"
    }
   ],
   "source": [
    "from wordcloud import WordCloud\n",
    "\n",
    "fpath = \"~/Library/Fonts/RictyDiminished-Regular.ttf\"\n",
    "\n",
    "wordcloud = WordCloud(background_color=\"white\", font_path=fpath, width=900, height=500, max_words=80).generate(word_list)\n",
    "\n",
    "plt.figure(figsize=(10,8))\n",
    "plt.imshow(wordcloud)\n",
    "plt.axis(\"off\")\n",
    "plt.savefig(outfile)\n",
    "plt.show()\n",
    "#一文字の単語は表示してくれない..."
   ]
  },
  {
   "cell_type": "code",
   "execution_count": null,
   "metadata": {},
   "outputs": [],
   "source": []
  }
 ],
 "metadata": {
  "kernelspec": {
   "display_name": "Python 3",
   "language": "python",
   "name": "python3"
  },
  "language_info": {
   "codemirror_mode": {
    "name": "ipython",
    "version": 3
   },
   "file_extension": ".py",
   "mimetype": "text/x-python",
   "name": "python",
   "nbconvert_exporter": "python",
   "pygments_lexer": "ipython3",
   "version": "3.6.4"
  }
 },
 "nbformat": 4,
 "nbformat_minor": 2
}
